{
 "cells": [
  {
   "cell_type": "code",
   "execution_count": 143,
   "metadata": {},
   "outputs": [],
   "source": [
    "from nn import *\n",
    "from ion import *"
   ]
  },
  {
   "cell_type": "code",
   "execution_count": 144,
   "metadata": {},
   "outputs": [
    {
     "data": {
      "text/plain": [
       "Atom(data=0.27684922930501943)"
      ]
     },
     "execution_count": 144,
     "metadata": {},
     "output_type": "execute_result"
    }
   ],
   "source": [
    "x = [2.0, 3.0, -1.0]\n",
    "\n",
    "n = MLP(3, [4, 4, 1])\n",
    "n(x)\n"
   ]
  },
  {
   "cell_type": "code",
   "execution_count": 145,
   "metadata": {},
   "outputs": [],
   "source": [
    "xs = [[2.0, 3.0, -1.0], [3.0, 1.0, 0.5], [0.5, 1.0, 1.0], [1.0, 1.0, -1.0]]\n",
    "ys = [1.0, -1.0, -1.0, 1.0]\n"
   ]
  },
  {
   "cell_type": "code",
   "execution_count": 146,
   "metadata": {},
   "outputs": [
    {
     "name": "stdout",
     "output_type": "stream",
     "text": [
      "iteration: 0,Loss: 8.001204577105696\n",
      "iteration: 1,Loss: 7.676758581234743\n",
      "iteration: 2,Loss: 7.423091478845947\n",
      "iteration: 3,Loss: 7.172030281039998\n",
      "iteration: 4,Loss: 6.892092737435792\n",
      "iteration: 5,Loss: 6.572214608779424\n",
      "iteration: 6,Loss: 6.2234637957573025\n",
      "iteration: 7,Loss: 5.876628320390918\n",
      "iteration: 8,Loss: 5.562051472251126\n",
      "iteration: 9,Loss: 5.291255665175756\n",
      "iteration: 10,Loss: 5.0611949559241465\n",
      "iteration: 11,Loss: 4.864998862302211\n",
      "iteration: 12,Loss: 4.696187453931665\n",
      "iteration: 13,Loss: 4.549291811130079\n",
      "iteration: 14,Loss: 4.419803338893051\n",
      "iteration: 15,Loss: 4.304046131971075\n",
      "iteration: 16,Loss: 4.199034722222741\n",
      "iteration: 17,Loss: 4.102336511791045\n",
      "iteration: 18,Loss: 4.0119507950839575\n",
      "iteration: 19,Loss: 3.9262084059093576\n"
     ]
    }
   ],
   "source": [
    "for i in range(20):\n",
    "    #forward pass\n",
    "    ypred = [n(x) for x in xs]\n",
    "    loss = sum([(y-ypred)**2 for y, ypred in zip(ys, ypred)])\n",
    "\n",
    "    #backward pass\n",
    "    for param in n.parameters():\n",
    "        param.grad=0\n",
    "    loss.backward()\n",
    "\n",
    "    #update\n",
    "    for param in n.parameters():\n",
    "        param.data += -0.01*param.grad\n",
    "\n",
    "    print(f\"iteration: {i},Loss: {loss.data}\")"
   ]
  },
  {
   "cell_type": "code",
   "execution_count": 147,
   "metadata": {},
   "outputs": [
    {
     "name": "stdout",
     "output_type": "stream",
     "text": [
      "[Atom(data=0.6445279006296307), Atom(data=-0.5617424038549829), Atom(data=0.8231502882065089), Atom(data=0.4671761092891065)]\n"
     ]
    }
   ],
   "source": [
    "print(ypred)"
   ]
  }
 ],
 "metadata": {
  "kernelspec": {
   "display_name": "Python 3.10.8 64-bit",
   "language": "python",
   "name": "python3"
  },
  "language_info": {
   "codemirror_mode": {
    "name": "ipython",
    "version": 3
   },
   "file_extension": ".py",
   "mimetype": "text/x-python",
   "name": "python",
   "nbconvert_exporter": "python",
   "pygments_lexer": "ipython3",
   "version": "3.10.8"
  },
  "orig_nbformat": 4,
  "vscode": {
   "interpreter": {
    "hash": "e7370f93d1d0cde622a1f8e1c04877d8463912d04d973331ad4851f04de6915a"
   }
  }
 },
 "nbformat": 4,
 "nbformat_minor": 2
}
