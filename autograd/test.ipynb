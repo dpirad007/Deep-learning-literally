{
 "cells": [
  {
   "cell_type": "code",
   "execution_count": 98,
   "metadata": {},
   "outputs": [],
   "source": [
    "from nn import *\n",
    "from ion import *"
   ]
  },
  {
   "cell_type": "code",
   "execution_count": 99,
   "metadata": {},
   "outputs": [
    {
     "data": {
      "text/plain": [
       "Atom(data=0.9986567767852474)"
      ]
     },
     "execution_count": 99,
     "metadata": {},
     "output_type": "execute_result"
    }
   ],
   "source": [
    "x = [2.0, 3.0, -1.0]\n",
    "\n",
    "n = MLP(3, [4, 4, 1])\n",
    "n(x)\n"
   ]
  },
  {
   "cell_type": "code",
   "execution_count": 100,
   "metadata": {},
   "outputs": [],
   "source": [
    "xs = [[2.0, 3.0, -1.0], [3.0, 1.0, 0.5], [0.5, 1.0, 1.0], [1.0, 1.0, -1.0]]\n",
    "ys = [1.0, -1.0, -1.0, 1.0]\n"
   ]
  },
  {
   "cell_type": "code",
   "execution_count": 141,
   "metadata": {},
   "outputs": [
    {
     "name": "stdout",
     "output_type": "stream",
     "text": [
      "iteration: 0,Loss: 0.008000444956432649\n",
      "iteration: 1,Loss: 0.007991004325563898\n",
      "iteration: 2,Loss: 0.007981586201642509\n",
      "iteration: 3,Loss: 0.007972190504236133\n",
      "iteration: 4,Loss: 0.007962817153294567\n",
      "iteration: 5,Loss: 0.007953466069147406\n",
      "iteration: 6,Loss: 0.00794413717250199\n",
      "iteration: 7,Loss: 0.007934830384441\n",
      "iteration: 8,Loss: 0.007925545626420318\n",
      "iteration: 9,Loss: 0.007916282820266811\n",
      "iteration: 10,Loss: 0.007907041888176172\n",
      "iteration: 11,Loss: 0.007897822752710752\n",
      "iteration: 12,Loss: 0.007888625336797295\n",
      "iteration: 13,Loss: 0.007879449563725036\n",
      "iteration: 14,Loss: 0.007870295357143276\n",
      "iteration: 15,Loss: 0.007861162641059549\n",
      "iteration: 16,Loss: 0.007852051339837438\n",
      "iteration: 17,Loss: 0.007842961378194305\n",
      "iteration: 18,Loss: 0.00783389268119958\n",
      "iteration: 19,Loss: 0.007824845174272434\n"
     ]
    }
   ],
   "source": [
    "for i in range(20):\n",
    "    #forward pass\n",
    "    ypred = [n(x) for x in xs]\n",
    "    loss = sum([(y-ypred)**2 for y, ypred in zip(ys, ypred)])\n",
    "\n",
    "    #backward pass\n",
    "    for param in n.parameters():\n",
    "        param.grad=0\n",
    "    loss.backward()\n",
    "\n",
    "    #update\n",
    "    for param in n.parameters():\n",
    "        param.data += -0.01*param.grad\n",
    "\n",
    "    print(f\"iteration: {i},Loss: {loss.data}\")"
   ]
  },
  {
   "cell_type": "code",
   "execution_count": 142,
   "metadata": {},
   "outputs": [
    {
     "name": "stdout",
     "output_type": "stream",
     "text": [
      "[Atom(data=0.9734120566883672), Atom(data=-0.978670055197641), Atom(data=-0.9359449799686743), Atom(data=0.9494044042604041)]\n"
     ]
    }
   ],
   "source": [
    "print(ypred)"
   ]
  }
 ],
 "metadata": {
  "kernelspec": {
   "display_name": "Python 3.10.8 64-bit",
   "language": "python",
   "name": "python3"
  },
  "language_info": {
   "codemirror_mode": {
    "name": "ipython",
    "version": 3
   },
   "file_extension": ".py",
   "mimetype": "text/x-python",
   "name": "python",
   "nbconvert_exporter": "python",
   "pygments_lexer": "ipython3",
   "version": "3.10.8"
  },
  "orig_nbformat": 4,
  "vscode": {
   "interpreter": {
    "hash": "e7370f93d1d0cde622a1f8e1c04877d8463912d04d973331ad4851f04de6915a"
   }
  }
 },
 "nbformat": 4,
 "nbformat_minor": 2
}
