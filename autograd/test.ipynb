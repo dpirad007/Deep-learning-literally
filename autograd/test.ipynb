{
 "cells": [
  {
   "cell_type": "code",
   "execution_count": 1,
   "metadata": {},
   "outputs": [],
   "source": [
    "from nn import *\n",
    "from ion import *"
   ]
  },
  {
   "cell_type": "code",
   "execution_count": 5,
   "metadata": {},
   "outputs": [
    {
     "data": {
      "text/plain": [
       "Atom(data=0.8208389103783614)"
      ]
     },
     "execution_count": 5,
     "metadata": {},
     "output_type": "execute_result"
    }
   ],
   "source": [
    "x = [2.0, 3.0, -1.0]\n",
    "\n",
    "n = MLP(3, [4, 4, 1])\n",
    "n(x)\n"
   ]
  },
  {
   "cell_type": "code",
   "execution_count": 6,
   "metadata": {},
   "outputs": [
    {
     "name": "stdout",
     "output_type": "stream",
     "text": [
      "Prediction: [Atom(data=0.8208389103783614), Atom(data=0.36308135097243444), Atom(data=-0.7589369802348633), Atom(data=0.8209310630713299)]\n",
      "MSE: Atom(data=1.9802665290743002)\n"
     ]
    }
   ],
   "source": [
    "xs = [[2.0, 3.0, -1.0], [3.0, 1.0, 0.5], [0.5, 1.0, 1.0], [1.0, 1.0, -1.0]]\n",
    "ys = [1.0, -1.0, -1.0, 1.0]\n",
    "\n",
    "ypred = [n(x) for x in xs]\n",
    "\n",
    "print(f\"Prediction: {ypred}\")\n",
    "\n",
    "loss = sum([(y-ypred)**2 for y, ypred in zip(ys, ypred)])\n",
    "print(f\"MSE: {loss}\")"
   ]
  },
  {
   "cell_type": "code",
   "execution_count": 7,
   "metadata": {},
   "outputs": [],
   "source": [
    "loss.backward()"
   ]
  },
  {
   "cell_type": "code",
   "execution_count": 3,
   "metadata": {},
   "outputs": [
    {
     "ename": "NameError",
     "evalue": "name 'n' is not defined",
     "output_type": "error",
     "traceback": [
      "\u001b[0;31m---------------------------------------------------------------------------\u001b[0m",
      "\u001b[0;31mNameError\u001b[0m                                 Traceback (most recent call last)",
      "Cell \u001b[0;32mIn [3], line 1\u001b[0m\n\u001b[0;32m----> 1\u001b[0m \u001b[39mprint\u001b[39m(n\u001b[39m.\u001b[39mlayers[\u001b[39m0\u001b[39m]\u001b[39m.\u001b[39mneurons[\u001b[39m0\u001b[39m]\u001b[39m.\u001b[39mw[\u001b[39m0\u001b[39m]\u001b[39m.\u001b[39mgrad)\n",
      "\u001b[0;31mNameError\u001b[0m: name 'n' is not defined"
     ]
    }
   ],
   "source": [
    "print(n.layers[0].neurons[0].w[0].grad)"
   ]
  },
  {
   "cell_type": "code",
   "execution_count": 2,
   "metadata": {},
   "outputs": [
    {
     "data": {
      "text/plain": [
       "[Atom(data=-0.32423926720649465),\n",
       " Atom(data=-0.8403083262563626),\n",
       " Atom(data=0.29256594044649953),\n",
       " Atom(data=-0.22094788538960475),\n",
       " Atom(data=-0.5005075998877202),\n",
       " Atom(data=0.35654692808515986),\n",
       " Atom(data=-0.8311883695027771),\n",
       " Atom(data=-0.6829449274884773),\n",
       " Atom(data=0.44498697261510767),\n",
       " Atom(data=0.1740939867481066),\n",
       " Atom(data=0.535758956893347),\n",
       " Atom(data=0.5111646949101478)]"
      ]
     },
     "execution_count": 2,
     "metadata": {},
     "output_type": "execute_result"
    }
   ],
   "source": []
  }
 ],
 "metadata": {
  "kernelspec": {
   "display_name": "Python 3.10.8 64-bit",
   "language": "python",
   "name": "python3"
  },
  "language_info": {
   "codemirror_mode": {
    "name": "ipython",
    "version": 3
   },
   "file_extension": ".py",
   "mimetype": "text/x-python",
   "name": "python",
   "nbconvert_exporter": "python",
   "pygments_lexer": "ipython3",
   "version": "3.10.8"
  },
  "orig_nbformat": 4,
  "vscode": {
   "interpreter": {
    "hash": "e7370f93d1d0cde622a1f8e1c04877d8463912d04d973331ad4851f04de6915a"
   }
  }
 },
 "nbformat": 4,
 "nbformat_minor": 2
}
